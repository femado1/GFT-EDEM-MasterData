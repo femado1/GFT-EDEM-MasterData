{
 "cells": [
  {
   "cell_type": "markdown",
   "metadata": {},
   "source": [
    "# EDEM Captura y Regogida Datos Exercise 7"
   ]
  },
  {
   "cell_type": "code",
   "execution_count": 20,
   "metadata": {},
   "outputs": [],
   "source": [
    "#1. Import pysftp module (If you run on jupyther online you need to install pysftp module executing on a cell: \n",
    "# pip install pysftp)\n",
    "\n",
    "# This parameter should be used on session connection to avoid certificate request\n",
    "cnopts = pysftp.CnOpts()\n",
    "cnopts.hostkeys = None\n",
    "    \n",
    "#2.Create a pysftp connection with host=\"35.222.158.208\", \n",
    "#username=\"edemExercise3\", password=\"edemExercise3\",cnopts = cnopts\n",
    "\n",
    "\n",
    "#3. Upload your file to Upload/YourName\n",
    "\n",
    "\n",
    "#4. Close the connection\n"
   ]
  }
 ],
 "metadata": {
  "kernelspec": {
   "display_name": "Python 3",
   "language": "python",
   "name": "python3"
  },
  "language_info": {
   "codemirror_mode": {
    "name": "ipython",
    "version": 3
   },
   "file_extension": ".py",
   "mimetype": "text/x-python",
   "name": "python",
   "nbconvert_exporter": "python",
   "pygments_lexer": "ipython3",
   "version": "3.7.3"
  }
 },
 "nbformat": 4,
 "nbformat_minor": 2
}
